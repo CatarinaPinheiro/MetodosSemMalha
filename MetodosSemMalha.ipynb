{
 "cells": [
  {
   "cell_type": "markdown",
   "metadata": {},
   "source": [
    "# Métodos sem malha\n",
    "Este trabaho contará com a implementação de 03 métodos sem malha para estruturas elásticas e viscoelásticas. Os métodos a serem implementados serão o da Colocação, Galerkin e Petrov-Galerkin. Todos utilizarão o Método dos Mínimos Quadrados Móveis para interpolação."
   ]
  },
  {
   "cell_type": "markdown",
   "metadata": {},
   "source": [
    "# Dependências\n",
    "A seguir encontram-se as bibliotecas utilizadas no presente trabalho para jupyter."
   ]
  },
  {
   "cell_type": "code",
   "execution_count": 13,
   "metadata": {},
   "outputs": [],
   "source": [
    "%matplotlib notebook\n",
    "\n",
    "import matplotlib\n",
    "from mpl_toolkits.mplot3d import Axes3D\n",
    "import numpy as np\n",
    "from numpy import linalg as la\n",
    "import matplotlib.pyplot as plt\n",
    "import pprint as pp"
   ]
  },
  {
   "cell_type": "markdown",
   "metadata": {},
   "source": [
    "# Dados\n",
    "Abaixo encontram-se os dados utilizados nos problemas abaixo.\n",
    " \n",
    "  - interpolação: $z = 3+2x+5x^2+4xy$"
   ]
  },
  {
   "cell_type": "code",
   "execution_count": 4,
   "metadata": {},
   "outputs": [],
   "source": [
    "interpol_data = [\n",
    "    [-1,-1,10],\n",
    "    [0,-1,3],\n",
    "    [1,-1,6],\n",
    "    [-1,0,6],\n",
    "    [0,0,3],\n",
    "    [1,0,10],\n",
    "    [-1,1,2],\n",
    "    [0,1,3],\n",
    "    [1,1,14]\n",
    "]\n",
    "interpol_base = [\"1\",\"x\",\"x**2\",\"y\",\"y**2\",\"x*y\"];\n",
    "\n"
   ]
  },
  {
   "cell_type": "markdown",
   "metadata": {},
   "source": [
    "\n",
    "# Definição Função Peso\n",
    "\n",
    "Criar a função gaussiana com raio e Função Spline, verificando qual se comporta melhor na modelagem.\n",
    "\n",
    "$\\textbf{Função Gaussiana com raio:}$\n",
    "\n",
    "$\n",
    "w(\\vec d) = \n",
    "\\begin{cases}\n",
    "\\dfrac{{e^{-({\\frac{||\\vec d||}c})^2}} - {e^{-({\\frac r c})^2}}}{1-{e^{-({\\frac{r}c})^2}}}, \\ d < r\n",
    "\\\\\\\\\n",
    "0, \\ d > r\n",
    "\\end{cases}\n",
    "$\n",
    "\n",
    "$\\textbf{Função Spline:}$\n",
    "\n",
    "$\n",
    "w(\\vec d) = \n",
    "\\begin{cases}\n",
    "\\ {1- 6{({\\frac{||\\vec d||}r})^2} + 8{({\\frac{||\\vec d||}r})^3} - 3{({\\frac{||\\vec d||}r})^4}}, \\ d < r\n",
    "\\\\\\\\\n",
    "0, \\ d > r\n",
    "\\end{cases}\n",
    "$\n",
    "\n",
    "$\\textbf{Obs:}$ \n",
    "- dist: $\\textbf{x} $ - $\\textbf{x$_{j}$} $ = $\\vec d $\n",
    "    \n",
    "- r: raio limite do subdominio (suporte)\n",
    "    \n",
    "    \n",
    " "
   ]
  },
  {
   "cell_type": "code",
   "execution_count": 14,
   "metadata": {},
   "outputs": [],
   "source": [
    "def gaussian_with_radius (dist,r):\n",
    "    c = 100\n",
    "    exp1 = np.exp(-(la.norm(dist)/c)**2) #Exponencial 2\n",
    "    exp2 = np.exp(-(r/c)**2) #Exponencial 1\n",
    "    weight = (exp1 - exp2)/(1 - exp2)\n",
    "    \n",
    "    return weight if (la.norm(dist)<=r) else 0 \n",
    "\n",
    "\n",
    "def spline (dist,r):\n",
    "    div = la.norm(dist)/r\n",
    "    weight = 1 - 6*(div**2)+8*(div**3)-3*((div**4))\n",
    "    \n",
    "    return weight if (la.norm(dist) <=r) else 0\n"
   ]
  },
  {
   "cell_type": "markdown",
   "metadata": {},
   "source": [
    "# Matriz Peso (W)"
   ]
  },
  {
   "cell_type": "code",
   "execution_count": null,
   "metadata": {},
   "outputs": [],
   "source": [
    "def W (data,point,r):\n",
    "    W = []\n",
    "    "
   ]
  }
 ],
 "metadata": {
  "kernelspec": {
   "display_name": "Python 3",
   "language": "python",
   "name": "python3"
  },
  "language_info": {
   "codemirror_mode": {
    "name": "ipython",
    "version": 3
   },
   "file_extension": ".py",
   "mimetype": "text/x-python",
   "name": "python",
   "nbconvert_exporter": "python",
   "pygments_lexer": "ipython3",
   "version": "3.5.2"
  }
 },
 "nbformat": 4,
 "nbformat_minor": 2
}
